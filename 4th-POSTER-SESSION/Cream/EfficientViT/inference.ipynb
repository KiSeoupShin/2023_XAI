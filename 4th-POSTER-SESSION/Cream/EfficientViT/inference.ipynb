{
 "cells": [
  {
   "cell_type": "code",
   "execution_count": 2,
   "metadata": {},
   "outputs": [
    {
     "name": "stderr",
     "output_type": "stream",
     "text": [
      "/home/rltjq09/anaconda3/envs/poster/lib/python3.8/site-packages/tqdm/auto.py:21: TqdmWarning: IProgress not found. Please update jupyter and ipywidgets. See https://ipywidgets.readthedocs.io/en/stable/user_install.html\n",
      "  from .autonotebook import tqdm as notebook_tqdm\n",
      "Downloading: \"https://github.com/xinyuliu-jeffrey/EfficientViT_Model_Zoo/releases/download/v1.0/efficientvit_m4.pth\" to /home/rltjq09/.cache/torch/hub/checkpoints/efficientvit_m4.pth\n",
      "100%|██████████| 34.1M/34.1M [00:00<00:00, 37.8MB/s]\n"
     ]
    }
   ],
   "source": [
    "from classification.model.build import EfficientViT_M4\n",
    "\n",
    "\n",
    "model = EfficientViT_M4(pretrained='efficientvit_m4')"
   ]
  },
  {
   "cell_type": "code",
   "execution_count": 12,
   "metadata": {},
   "outputs": [],
   "source": [
    "# 파일 경로 설정\n",
    "file_path = 'ImageNet_class.txt'\n",
    "\n",
    "# 빈 딕셔너리 생성\n",
    "data_dict = {}\n",
    "\n",
    "# 파일 열기 및 읽기\n",
    "with open(file_path, 'r') as file:\n",
    "    for line in file:\n",
    "        # 각 줄을 콜론(:) 기준으로 분할\n",
    "        key, value = line.split(':', 1)\n",
    "\n",
    "        # key를 정수로 변환\n",
    "        key = int(key.strip())\n",
    "\n",
    "        # value에서 앞뒤 공백 제거 및 따옴표 제거\n",
    "        value = value.strip().strip('\"')\n",
    "\n",
    "        # 딕셔너리에 key-value 쌍 추가\n",
    "        data_dict[key] = value"
   ]
  },
  {
   "cell_type": "code",
   "execution_count": 13,
   "metadata": {},
   "outputs": [],
   "source": [
    "import torch\n",
    "from torchvision import transforms\n",
    "from PIL import Image\n",
    "\n",
    "# 이미지를 로드합니다\n",
    "image = Image.open(\"dog.jpg\")\n",
    "\n",
    "# 변환을 정의합니다 (여기서는 기본적인 변환만 적용)\n",
    "transform = transforms.Compose([\n",
    "    transforms.Resize((224, 224)),  # 모델에 맞는 크기로 조정\n",
    "    transforms.ToTensor(),          # 이미지를 PyTorch Tensor로 변환\n",
    "    transforms.Normalize(mean=[0.485, 0.456, 0.406], std=[0.229, 0.224, 0.225])  # 정규화\n",
    "])\n",
    "\n",
    "# 변환 적용\n",
    "tensor_image = transform(image)\n",
    "\n",
    "# 배치 차원 추가\n",
    "batch = tensor_image.unsqueeze(0)\n",
    "\n",
    "model.eval()\n",
    "with torch.no_grad():\n",
    "    out = model(batch)"
   ]
  },
  {
   "cell_type": "code",
   "execution_count": 15,
   "metadata": {},
   "outputs": [
    {
     "data": {
      "text/plain": [
       "'German shepherd, German shepherd dog, German police dog, alsatian\",'"
      ]
     },
     "execution_count": 15,
     "metadata": {},
     "output_type": "execute_result"
    }
   ],
   "source": [
    "data_dict[int(torch.argmax(out))]"
   ]
  },
  {
   "cell_type": "code",
   "execution_count": null,
   "metadata": {},
   "outputs": [],
   "source": []
  }
 ],
 "metadata": {
  "kernelspec": {
   "display_name": "poster",
   "language": "python",
   "name": "python3"
  },
  "language_info": {
   "codemirror_mode": {
    "name": "ipython",
    "version": 3
   },
   "file_extension": ".py",
   "mimetype": "text/x-python",
   "name": "python",
   "nbconvert_exporter": "python",
   "pygments_lexer": "ipython3",
   "version": "3.8.18"
  }
 },
 "nbformat": 4,
 "nbformat_minor": 2
}
